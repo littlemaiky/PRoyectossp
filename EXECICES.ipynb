{
  "nbformat": 4,
  "nbformat_minor": 0,
  "metadata": {
    "colab": {
      "provenance": [],
      "collapsed_sections": [],
      "include_colab_link": true
    },
    "kernelspec": {
      "name": "python3",
      "display_name": "Python 3"
    },
    "language_info": {
      "name": "python"
    }
  },
  "cells": [
    {
      "cell_type": "markdown",
      "metadata": {
        "id": "view-in-github",
        "colab_type": "text"
      },
      "source": [
        "<a href=\"https://colab.research.google.com/github/littlemaiky/PRoyectossp/blob/main/EXECICES.ipynb\" target=\"_parent\"><img src=\"https://colab.research.google.com/assets/colab-badge.svg\" alt=\"Open In Colab\"/></a>"
      ]
    },
    {
      "cell_type": "markdown",
      "source": [
        "1. Write a program that reads a DNA sequence, converts it to capital letters, and counts how\n",
        "many nucleotides are purines and pyrimidines."
      ],
      "metadata": {
        "id": "ZYBQuR3rbNYe"
      }
    },
    {
      "cell_type": "code",
      "execution_count": 1,
      "metadata": {
        "id": "PEHXfblbRJKi"
      },
      "outputs": [],
      "source": [
        "def counting(string):\n",
        "  a=0;\n",
        "  g=0;\n",
        "  c=0;\n",
        "  t=0;\n",
        "  for i in string:\n",
        "    if i==\"A\":\n",
        "      a=a+1\n",
        "    elif i==\"G\":\n",
        "      g=g+1\n",
        "    elif i==\"C\":\n",
        "      c=c+1\n",
        "    elif i==\"T\":\n",
        "      t=t+1\n",
        "  count= [a,g,c,t]\n",
        "  print (\"\".join(str(x) for x in count)) "
      ]
    },
    {
      "cell_type": "code",
      "source": [
        "counting(\"AGCTTTTCATTCTGACTGCAACGGGCAATATGTCTCTGTGTGGATTAAAAAAAGAGTGTCTGATAGCAGC\") "
      ],
      "metadata": {
        "colab": {
          "base_uri": "https://localhost:8080/"
        },
        "id": "g2qhdRHARUmS",
        "outputId": "ca77f5b6-74d5-402b-8ed4-f50df66c39d6"
      },
      "execution_count": 2,
      "outputs": [
        {
          "output_type": "stream",
          "name": "stdout",
          "text": [
            "20171221\n"
          ]
        }
      ]
    },
    {
      "cell_type": "code",
      "source": [
        "def validar_Adn(seq_adn):\n",
        "  seqm = seq_adn.upper()\n",
        "  validacion = seqm.count(\"A\") + seqm.count(\"C\") + seqm.count(\"G\") + seqm.count(\"T\")\n",
        "  if validacion == len(seqm):\n",
        "    return True\n",
        "  else:\n",
        "    return False\n",
        "  "
      ],
      "metadata": {
        "id": "gYY_UjWkcO_t"
      },
      "execution_count": 16,
      "outputs": []
    },
    {
      "cell_type": "code",
      "source": [
        "def contaram(sec_adn):\n",
        "  if validar_Adn(sec_adn):\n",
        "    sec_adn=sec_adn.upper()\n",
        "    cantidad={\"purinas\":0,\"piriminas\":0}\n",
        "    for cant in sec_adn:\n",
        "      if cant in ['A','G']:\n",
        "        cantidad['purinas']+=1\n",
        "      elif cant in ['C','T']:\n",
        "           cantidad['piriminas']+=1\n",
        "      else:\n",
        "            return None \n",
        "      return print(sec_adn,cantidad)\n",
        "  else:return print(\"secuencia de adn invalida\") "
      ],
      "metadata": {
        "id": "_zgg46rdRZyc"
      },
      "execution_count": 12,
      "outputs": []
    },
    {
      "cell_type": "code",
      "source": [
        "contaram('agtagagatatcg')"
      ],
      "metadata": {
        "colab": {
          "base_uri": "https://localhost:8080/"
        },
        "id": "NDf8MCeKRenz",
        "outputId": "af8551f5-6dac-4727-db7c-5f6acc216e3e"
      },
      "execution_count": 17,
      "outputs": [
        {
          "output_type": "stream",
          "name": "stdout",
          "text": [
            "AGTAGAGATATCG {'purinas': 1, 'piriminas': 0}\n"
          ]
        }
      ]
    },
    {
      "cell_type": "markdown",
      "source": [
        "2. Write a program that reads a DNA sequence and checks if it is equal to its reverse complement."
      ],
      "metadata": {
        "id": "uy_lDw0bbpt-"
      }
    },
    {
      "cell_type": "code",
      "source": [
        "input_strand = \"ACGTAATTGGCC\"\n",
        "reversed_strand = \"\"\n",
        "length = len(input_strand)\n",
        "for i in range(length):\n",
        "    character = input_strand[length - 1 - i]\n",
        "    if character == \"A\":\n",
        "        reversed_strand = reversed_strand + \"T\"\n",
        "    elif character == \"T\":\n",
        "        reversed_strand = reversed_strand + \"A\"\n",
        "    elif character == \"G\":\n",
        "        reversed_strand = reversed_strand + \"C\"\n",
        "    elif character == \"C\":\n",
        "        reversed_strand = reversed_strand + \"G\"\n",
        "    else:\n",
        "        reversed_strand = reversed_strand + character\n",
        "print(\"The input DNA strand is:\", input_strand)\n",
        "print(\"The reverse complement is:\", reversed_strand)"
      ],
      "metadata": {
        "colab": {
          "base_uri": "https://localhost:8080/"
        },
        "id": "iq3TTtVnbt1C",
        "outputId": "5a7695db-206b-4e77-a6d0-82d9314d2d06"
      },
      "execution_count": 14,
      "outputs": [
        {
          "output_type": "stream",
          "name": "stdout",
          "text": [
            "The input DNA strand is: ACGTAATTGGCC\n",
            "The reverse complement is: GGCCAATTACGT\n"
          ]
        }
      ]
    },
    {
      "cell_type": "code",
      "source": [
        "def comparar_inverso(sec_adn):\n",
        "  if validar_Adn(sec_adn):\n",
        "    sec=\"\"\n",
        "    comp=complemento_inverso(sec_adn)\n",
        "    for c in sec_adn.upper():\n",
        "      if c==\"G\":\n",
        "        sec=\"C\"+sec\n",
        "      elif c==\"C\":\n",
        "        sec=\"G\"+sec\n",
        "      elif c==\"A\":\n",
        "        sec=\"T\"+sec\n",
        "      elif c==\"T\":\n",
        "        sec=\"A\"+sec \n",
        "    if comp==sec:\n",
        "      return print(\" la secuencia es igual a su complemento\",comp,\"=\",sec)\n",
        "    else:  return print(\"adn invalida\")     "
      ],
      "metadata": {
        "id": "TRANmhzgbzmq"
      },
      "execution_count": 19,
      "outputs": []
    },
    {
      "cell_type": "markdown",
      "source": [
        "3.Write and test a function that, given a DNA sequence, returns the total number of “CG”\n",
        "duplets contained in it.\n"
      ],
      "metadata": {
        "id": "rRNJuSBOdEi0"
      }
    },
    {
      "cell_type": "code",
      "source": [
        "base_seq=input(\"ingresa secuencia de adn:\")\n",
        "seq = base_seq.upper()\n",
        "print(seq.count('GC'))"
      ],
      "metadata": {
        "colab": {
          "base_uri": "https://localhost:8080/"
        },
        "id": "XJeEdeuSdHm4",
        "outputId": "0bbaa041-ef90-418a-ceab-0662576ec8e7"
      },
      "execution_count": 21,
      "outputs": [
        {
          "output_type": "stream",
          "name": "stdout",
          "text": [
            "ingresa secuencia de adn:ACGTAATTGGCC\n",
            "1\n"
          ]
        }
      ]
    },
    {
      "cell_type": "markdown",
      "source": [
        "4. Write and test a Python function that, given a DNA sequence, returns the size of the first protein that can be encoded by that sequence (in any of the three reading frames). The function should return -1 if no protein is found. "
      ],
      "metadata": {
        "id": "c90kf7AUdWsy"
      }
    },
    {
      "cell_type": "code",
      "source": [
        "\"\"\"escriba y pruebe uan funcion de phyton que, dad una secuencia de ADN, devuelva el tamaño de la primera proteina \n",
        "que puede ser codificada por esa secuencia  en cualquier de los tres marcos de lectura. La funcion deberia devolver 1- \n",
        "si no se encuentra ninguna proteina. \"\"\"\n",
        "def frequencia(seq):\n",
        "  \"\"\" Calcula la frecuencia de cada símbolo en la secuencia. \n",
        "  Devuelve un diccionario. \"\"\"\n",
        "  dic = {}\n",
        "  for s in seq.upper():\n",
        "    if s in dic: dic[s] += 1\n",
        "    else : dic[s] = 1\n",
        "  return dic"
      ],
      "metadata": {
        "id": "EoWsCUPKdXlG"
      },
      "execution_count": 22,
      "outputs": []
    },
    {
      "cell_type": "code",
      "source": [
        "def validar_Adn(seq_adn):\n",
        "  seqm = seq_adn.upper()\n",
        "  validacion = seqm.count(\"A\") + seqm.count(\"C\") + seqm.count(\"G\") + seqm.count(\"T\")\n",
        "  if validacion == len(seqm):\n",
        "    return True\n",
        "  else:\n",
        "    return False"
      ],
      "metadata": {
        "id": "VQK3kh1fdrV5"
      },
      "execution_count": 26,
      "outputs": []
    },
    {
      "cell_type": "code",
      "source": [
        "def proteina(secu_p):\n",
        "  sec_aa = secu_p\n",
        "  frec_aa = frequencia(sec_aa)\n",
        "  list_f = sorted (frec_aa.items(), key=lambda x: x[1], reverse = True)\n",
        "  for (k,v) in list_f:\n",
        "    print(\"Aminoacidos: \", k,\":\", v)\n"
      ],
      "metadata": {
        "id": "tWcZ8KucdeMh"
      },
      "execution_count": 23,
      "outputs": []
    },
    {
      "cell_type": "code",
      "source": [
        "def eje4(sec_adn):\n",
        "  a=sec_adn\n",
        "  if validar_Adn(a):\n",
        "    dic = ()\n",
        "    seqC = sec_adn.upper()\n",
        "    p = proteina(seqC)\n",
        "    errors = 0\n",
        "    for b in seqC:\n",
        "      if b in \"CG\":\n",
        "        if b in dic: dic[b] += 1\n",
        "        else: dic[b] = 1\n",
        "      else : errors += 1\n",
        "    return dic, errors\n",
        "  else: return print(\"-1\")"
      ],
      "metadata": {
        "id": "_9A-OkpVdigN"
      },
      "execution_count": 31,
      "outputs": []
    },
    {
      "cell_type": "code",
      "source": [
        "eje4(\"ataataatggatatggataactcgcataatggtaaatatatagacaataactcgcatgactaaggtaaatatatagacataataatggatatggataactcgcataatggtaaatatatagacaataactcgcatgactaaggtaaatatatagac\")"
      ],
      "metadata": {
        "colab": {
          "base_uri": "https://localhost:8080/",
          "height": 374
        },
        "id": "qX0VUh2Xdl3g",
        "outputId": "5c7aa123-8ddd-4e0b-f5e7-5632850ffe82"
      },
      "execution_count": 32,
      "outputs": [
        {
          "output_type": "stream",
          "name": "stdout",
          "text": [
            "Aminoacidos:  A : 70\n",
            "Aminoacidos:  T : 42\n",
            "Aminoacidos:  G : 26\n",
            "Aminoacidos:  C : 18\n"
          ]
        },
        {
          "output_type": "error",
          "ename": "TypeError",
          "evalue": "ignored",
          "traceback": [
            "\u001b[0;31m---------------------------------------------------------------------------\u001b[0m",
            "\u001b[0;31mTypeError\u001b[0m                                 Traceback (most recent call last)",
            "\u001b[0;32m<ipython-input-32-db136cad25d2>\u001b[0m in \u001b[0;36m<module>\u001b[0;34m\u001b[0m\n\u001b[0;32m----> 1\u001b[0;31m \u001b[0meje4\u001b[0m\u001b[0;34m(\u001b[0m\u001b[0;34m\"ataataatggatatggataactcgcataatggtaaatatatagacaataactcgcatgactaaggtaaatatatagacataataatggatatggataactcgcataatggtaaatatatagacaataactcgcatgactaaggtaaatatatagac\"\u001b[0m\u001b[0;34m)\u001b[0m\u001b[0;34m\u001b[0m\u001b[0;34m\u001b[0m\u001b[0m\n\u001b[0m",
            "\u001b[0;32m<ipython-input-31-26c705a8d741>\u001b[0m in \u001b[0;36meje4\u001b[0;34m(sec_adn)\u001b[0m\n\u001b[1;32m      9\u001b[0m       \u001b[0;32mif\u001b[0m \u001b[0mb\u001b[0m \u001b[0;32min\u001b[0m \u001b[0;34m\"CG\"\u001b[0m\u001b[0;34m:\u001b[0m\u001b[0;34m\u001b[0m\u001b[0;34m\u001b[0m\u001b[0m\n\u001b[1;32m     10\u001b[0m         \u001b[0;32mif\u001b[0m \u001b[0mb\u001b[0m \u001b[0;32min\u001b[0m \u001b[0mdic\u001b[0m\u001b[0;34m:\u001b[0m \u001b[0mdic\u001b[0m\u001b[0;34m[\u001b[0m\u001b[0mb\u001b[0m\u001b[0;34m]\u001b[0m \u001b[0;34m+=\u001b[0m \u001b[0;36m1\u001b[0m\u001b[0;34m\u001b[0m\u001b[0;34m\u001b[0m\u001b[0m\n\u001b[0;32m---> 11\u001b[0;31m         \u001b[0;32melse\u001b[0m\u001b[0;34m:\u001b[0m \u001b[0mdic\u001b[0m\u001b[0;34m[\u001b[0m\u001b[0mb\u001b[0m\u001b[0;34m]\u001b[0m \u001b[0;34m=\u001b[0m \u001b[0;36m1\u001b[0m\u001b[0;34m\u001b[0m\u001b[0;34m\u001b[0m\u001b[0m\n\u001b[0m\u001b[1;32m     12\u001b[0m       \u001b[0;32melse\u001b[0m \u001b[0;34m:\u001b[0m \u001b[0merrors\u001b[0m \u001b[0;34m+=\u001b[0m \u001b[0;36m1\u001b[0m\u001b[0;34m\u001b[0m\u001b[0;34m\u001b[0m\u001b[0m\n\u001b[1;32m     13\u001b[0m     \u001b[0;32mreturn\u001b[0m \u001b[0mdic\u001b[0m\u001b[0;34m,\u001b[0m \u001b[0merrors\u001b[0m\u001b[0;34m\u001b[0m\u001b[0;34m\u001b[0m\u001b[0m\n",
            "\u001b[0;31mTypeError\u001b[0m: 'tuple' object does not support item assignment"
          ]
        }
      ]
    },
    {
      "cell_type": "markdown",
      "source": [
        " 5. Write and test a function that given an aminoacid sequence returns a logic value indicating if the sequence can be a protein or not. "
      ],
      "metadata": {
        "id": "nKaYrvmreyeT"
      }
    },
    {
      "cell_type": "code",
      "source": [
        "def validarAdn(seq_adn):\n",
        "  seqm = seq_adn.upper()\n",
        "  validacion = seqm.count(\"A\") + seqm.count(\"C\") + seqm.count(\"G\") + seqm.count(\"T\")\n",
        "  if validacion == len(seqm):\n",
        "    return True\n",
        "  else:\n",
        "    return False"
      ],
      "metadata": {
        "id": "Q9QbZGWne1gh"
      },
      "execution_count": 33,
      "outputs": []
    },
    {
      "cell_type": "code",
      "source": [
        "def translate_codon (cod):\n",
        "    tc = {\"GCT\":\"A\", \"GCC\":\"A\", \"GCA\":\"A\", \"GCG\":\"A\",\n",
        "    \"TGT\":\"C\", \"TGC\":\"C\",\n",
        "    \"GAT\":\"D\", \"GAC\":\"D\",\n",
        "    \"GAA\":\"E\", \"GAG\":\"E\",\n",
        "    \"TTT\":\"F\", \"TTC\":\"F\",\n",
        "    \"GGT\":\"G\", \"GGC\":\"G\", \"GGA\":\"G\", \"GGG\":\"G\",\n",
        "    \"CAT\":\"H\", \"CAC\":\"H\",\n",
        "    \"ATA\":\"I\", \"ATT\":\"I\", \"ATC\":\"I\",\n",
        "    \"AAA\":\"K\", \"AAG\":\"K\",\n",
        "    \"TTA\":\"L\", \"TTG\":\"L\", \"CTT\":\"L\", \"CTC\":\"L\", \"CTA\":\"L\", \"CTG\":\"L\",\n",
        "    \"ATG\":\"M\",\n",
        "    \"AAT\":\"N\", \"AAC\":\"N\",\n",
        "    \"CCT\":\"P\", \"CCC\":\"P\", \"CCA\":\"P\", \"CCG\":\"P\",\n",
        "    \"CAA\":\"Q\", \"CAG\":\"Q\",\n",
        "    \"CGT\":\"R\", \"CGC\":\"R\", \"CGA\":\"R\", \"CGG\":\"R\", \"AGA\":\"R\", \"AGG\":\"R\",\n",
        "    \"TCT\":\"S\", \"TCC\":\"S\", \"TCA\":\"S\", \"TCG\":\"S\", \"AGT\":\"S\", \"AGC\":\"S\",\n",
        "    \"ACT\":\"T\", \"ACC\":\"T\", \"ACA\":\"T\", \"ACG\":\"T\",\n",
        "    \"GTT\":\"V\", \"GTC\":\"V\", \"GTA\":\"V\", \"GTG\":\"V\",\n",
        "    \"TGG\":\"W\",\n",
        "    \"TAT\":\"Y\", \"TAC\":\"Y\",\n",
        "    \"TAA\":\"\", \"TAG\":\"\", \"TGA\":\"_\"}\n",
        "    if cod in tc:\n",
        "      return tc[cod]\n",
        "    else:\n",
        "      return None"
      ],
      "metadata": {
        "id": "t-okRY1ce6Zc"
      },
      "execution_count": 34,
      "outputs": []
    },
    {
      "cell_type": "code",
      "source": [
        "def translate_seq (dna_seq, ini_pos =0):\n",
        "    assert validarAdn (dna_seq), \"Invalid DNA sequence\"\n",
        "    seqm = dna_seq.upper()\n",
        "    seq_aa = \"\"\n",
        "    for pos in range(ini_pos, len(seqm)-2,3):\n",
        "      cod = seqm[pos:pos+3]\n",
        "      seq_aa += translate_codon (cod)\n",
        "    return seq_aa"
      ],
      "metadata": {
        "id": "xDG9MIpGfJRq"
      },
      "execution_count": 35,
      "outputs": []
    },
    {
      "cell_type": "code",
      "source": [
        "def primera_protina(seqAA):\n",
        "    validarAdn (seqAA)\n",
        "    adn = translate_seq(seqAA,0)\n",
        "    inProt = False\n",
        "    endProt = False\n",
        "    prot = \"\"\n",
        "    pos = 0\n",
        "    while not endProt and pos < len(adn):\n",
        "      if inProt:\n",
        "        if adn[pos]==\"_\": endProt = True\n",
        "        else: prot += adn[pos]\n",
        "      else:\n",
        "        if adn[pos]==\"M\":\n",
        "          inProt=True\n",
        "          prot = \"M\"\n",
        "      pos +=1\n",
        "    if endProt == \"_\":\n",
        "      return 0\n",
        "    else:\n",
        "      return -1"
      ],
      "metadata": {
        "id": "Sw5nTxdqfMA6"
      },
      "execution_count": 36,
      "outputs": []
    },
    {
      "cell_type": "code",
      "source": [
        "seq= input(\"Secuencia del aminoacido: \")\n",
        "lprot = primera_protina(\"\")\n",
        "if lprot==0: print(\"si es proteina\")\n",
        "else: print(\"No es proteina\")"
      ],
      "metadata": {
        "colab": {
          "base_uri": "https://localhost:8080/"
        },
        "id": "azeEtVKffPC6",
        "outputId": "96b8c07f-a255-467f-d31b-7638960fa705"
      },
      "execution_count": 37,
      "outputs": [
        {
          "output_type": "stream",
          "name": "stdout",
          "text": [
            "Secuencia del aminoacido: glfcavslss\n",
            "No es proteina\n"
          ]
        }
      ]
    },
    {
      "cell_type": "markdown",
      "source": [
        "6. Write and test a Python function that, given a DNA sequence, creates a map (dictionary) with the frequencies of the aminoacids it encodes (assuming the translation is initiated in the first position of the DNA sequence). Stop codons should be ignored."
      ],
      "metadata": {
        "id": "hnQXT-04fUML"
      }
    },
    {
      "cell_type": "code",
      "source": [
        "def translate_seq (dna_seq , ini_pos = 0):\n",
        "  \"\"\" Traduce una secuencia de ADN en una secuencia de aminoácidos. \"\"\"\n",
        "  assert validarAdn(dna_seq), \"Invalid DNA sequence\"\n",
        "  seqm = dna_seq.upper()\n",
        "  seq_aa = \"\"\n",
        "  for pos in range(ini_pos , len (seqm)-2,3):\n",
        "    cod = seqm[pos:pos+3]\n",
        "    seq_aa += translate_codon(cod)\n",
        "  return seq_aa"
      ],
      "metadata": {
        "id": "T_1N-kk_fWQq"
      },
      "execution_count": 38,
      "outputs": []
    },
    {
      "cell_type": "code",
      "source": [
        "\"\"\" Escriba y pruebe una función de Python que, dada una secuencia de ADN, cree un mapa (diccionario) con las \n",
        "frecuencias de los aminoácidos que codifica (suponiendo que la traducción se inicia en la primera posición de la \n",
        "secuencia de ADN). Los codones de terminación deben ignorarse.\"\"\"\n",
        "def crea_mapa(sec_adn):\n",
        "  if validarAdn(sec_adn):\n",
        "    frec_trad = {}\n",
        "    pos_i=0\n",
        "    for i in translate_seq(sec_adn,pos_i):\n",
        "      if i=='_':\n",
        "        continue\n",
        "      if i in frec_trad:\n",
        "        frec_trad[i] += 1\n",
        "      else:\n",
        "        frec_trad[i] = 1\n",
        "    return frec_trad\n",
        "  else:\n",
        "    return print(\"secuencia de adn invalida\")\n",
        " \n",
        "secuencia = \"ATAGATAACTCGCATAG\"\n",
        "crea_mapa(secuencia)"
      ],
      "metadata": {
        "colab": {
          "base_uri": "https://localhost:8080/"
        },
        "id": "R3eWU3iZfZYq",
        "outputId": "e061b8ac-bf4e-480e-f51b-197e9eb4048b"
      },
      "execution_count": 39,
      "outputs": [
        {
          "output_type": "execute_result",
          "data": {
            "text/plain": [
              "{'I': 1, 'D': 1, 'N': 1, 'S': 1, 'H': 1}"
            ]
          },
          "metadata": {},
          "execution_count": 39
        }
      ]
    },
    {
      "cell_type": "markdown",
      "source": [
        "7. Write a program that reads an aminoacid sequence and a DNA sequence and prints the\n",
        "list of all sub-sequences of the DNA sequence that encode the given protein sequence."
      ],
      "metadata": {
        "id": "nEq-xzeEfd7C"
      }
    },
    {
      "cell_type": "code",
      "source": [
        "def subseqs(seqDNA, seqAA):\n",
        "\n",
        "    d = {\"GCT\":\"A\", \"GCC\":\"A\", \"GCA\":\"A\", \"GCC\":\"A\", \n",
        "          \"TGT\":\"C\", \"TGC\":\"C\",\n",
        "          \"GAT\":\"D\", \"GAC\":\"D\",\n",
        "          \"GAA\":\"E\", \"GAG\":\"E\",\n",
        "          \"TTT\":\"F\", \"TTC\":\"F\",\n",
        "          \"GGT\":\"G\", \"GGC\":\"G\", \"GGA\":\"G\", \"GGG\":\"G\",\n",
        "          \"CAT\":\"H\", \"CAC\":\"H\",\n",
        "          \"ATA\":\"I\", \"ATT\":\"I\", \"ATC\":\"I\",\n",
        "          \"AAA\":\"K\", \"AAG\":\"K\",\n",
        "          \"TTA\":\"L\", \"TTG\":\"L\", \"CTT\":\"L\", \"CTC\":\"L\", \"CTA\":\"L\", \"CTG\":\"L\",\n",
        "          \"ATG\":\"M\", \"AAT\":\"N\", \"AAC\":\"N\",\n",
        "          \"CCT\":\"P\", \"CCC\":\"P\", \"CCA\":\"P\", \"CCG\":\"P\",\n",
        "          \"CAA\":\"Q\", \"CAG\":\"Q\",\n",
        "          \"CGT\":\"R\", \"CGC\":\"R\", \"CGA\":\"R\", \"CGG\":\"R\", \"AGA\":\"R\", \"AGG\":\"R\",\n",
        "          \"TCT\":\"S\", \"TCC\":\"S\", \"TCA\":\"S\", \"TCG\":\"S\", \"AGT\":\"S\", \"AGC\":\"S\",\n",
        "          \"ACT\":\"T\", \"ACC\":\"T\", \"ACA\":\"T\", \"ACG\":\"T\",\n",
        "          \"GTT\":\"V\", \"GTC\":\"V\", \"GTA\":\"V\", \"GTG\":\"V\",\n",
        "          \"TGG\":\"W\",\n",
        "          \"TAT\":\"Y\", \"TAC\":\"Y\",\n",
        "          \"TAA\":\"_\", \"TAG\":\"_\", \"TGA\":\"_\"\n",
        "          }\n",
        "    subseqs = []\n",
        "    lastpos = len(seqDNA) - len(seqAA)*3 + 1\n",
        "    for i in range(lastpos): # initial position\n",
        "        prot = \"\"\n",
        "        for k in range(i, i + len(seqAA)*3, 3):\n",
        "            codao = seqDNA[k : k+3]\n",
        "            aa = d[codao]\n",
        "            prot += aa\n",
        "        if prot == seqAA:\n",
        "            subseqs.append(i)\n",
        "    return subseqs\n",
        "\n",
        "## main \n",
        "seqAA = input(\"Insert aminoacid sequence:\")\n",
        "seqDNA = input(\"Insert DNA sequence:\")\n",
        "subs = subseqs(seqDNA, seqAA)\n",
        "if subs:\n",
        "    print(\"Subsequences encoding the target aminoacid sequence\")\n",
        "    for s in subs:\n",
        "        print(seqDNA[s:s+len(seqAA*3)])\n",
        "        \n",
        "else:\n",
        "    print(\"No subsequences encode the target aminoacid sequence\")"
      ],
      "metadata": {
        "colab": {
          "base_uri": "https://localhost:8080/"
        },
        "id": "L30pOkI7fflq",
        "outputId": "66cd42cf-ffca-4c93-9aa8-2209b3e29afa"
      },
      "execution_count": 40,
      "outputs": [
        {
          "output_type": "stream",
          "name": "stdout",
          "text": [
            "Insert aminoacid sequence:A\n",
            "Insert DNA sequence:GCT\n",
            "Subsequences encoding the target aminoacid sequence\n",
            "GCT\n"
          ]
        }
      ]
    },
    {
      "cell_type": "markdown",
      "source": [
        "8. Write a function that, given a sequence as an argument, allows to detect if there are repeated\n",
        "sub-sequences of size k (the second argument of the function). The result should\n",
        "be a dictionary where keys are sub-sequences and values are the number of times they occur\n",
        "(at least 2). Use the function in a program that reads the sequence and k and prints the\n",
        "result by decreasing frequency."
      ],
      "metadata": {
        "id": "8QwbkgRIfqNT"
      }
    },
    {
      "cell_type": "code",
      "source": [],
      "metadata": {
        "id": "KRsLrQ71fsvC"
      },
      "execution_count": null,
      "outputs": []
    }
  ]
}